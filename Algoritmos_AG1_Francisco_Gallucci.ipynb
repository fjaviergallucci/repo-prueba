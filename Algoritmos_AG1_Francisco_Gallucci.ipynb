{
  "cells": [
    {
      "cell_type": "markdown",
      "metadata": {
        "id": "view-in-github",
        "colab_type": "text"
      },
      "source": [
        "<a href=\"https://colab.research.google.com/github/fjaviergallucci/repo-prueba/blob/master/Algoritmos_AG1_Francisco_Gallucci.ipynb\" target=\"_parent\"><img src=\"https://colab.research.google.com/assets/colab-badge.svg\" alt=\"Open In Colab\"/></a>"
      ]
    },
    {
      "cell_type": "markdown",
      "metadata": {
        "id": "GG2D6vLdYwwy"
      },
      "source": [
        "Actividad Guiada 1 de Algoritmos de Optimizacion\n",
        "\n",
        "Nombre: Francisco Gallucci\n",
        "\n",
        "https://colab.research.google.com/drive/17x09TirzNuqA_GGZDDnqvD5pik3ye5hm?usp=sharing\n",
        "\n",
        "Github: https://github.com/fjaviergallucci/mia-ao-ag1\n"
      ]
    },
    {
      "cell_type": "markdown",
      "metadata": {
        "id": "xdcU5D-xD-tN"
      },
      "source": [
        "### Torres de Hanoi - Divide y venceras"
      ]
    },
    {
      "cell_type": "code",
      "execution_count": null,
      "metadata": {
        "colab": {
          "base_uri": "https://localhost:8080/"
        },
        "id": "rTiqLuX2ZKuL",
        "outputId": "b55fa0f0-8254-4e7c-a4e3-1da9a0b73173"
      },
      "outputs": [
        {
          "name": "stdout",
          "output_type": "stream",
          "text": [
            "Lleva la ficha desde 1 hasta 3\n",
            "Lleva la ficha desde 1 hasta 2\n",
            "Lleva la ficha desde 3 hasta 2\n",
            "Lleva la ficha desde 1 hasta 3\n",
            "Lleva la ficha desde 2 hasta 1\n",
            "Lleva la ficha desde 2 hasta 3\n",
            "Lleva la ficha desde 1 hasta 3\n"
          ]
        }
      ],
      "source": [
        "#Torres de Hanoi - Divide y venceras\n",
        "def Torres_Hanoi(n, desde, hasta):\n",
        "  #N - Nº de fichas\n",
        "  #desde - torre inicial\n",
        "  #hasta - torre fina\n",
        "  if n==1 :\n",
        "    print(\"Lleva la ficha desde \" + str(desde) + \" hasta \" + str(hasta))\n",
        "\n",
        "  else:\n",
        "    Torres_Hanoi(n-1, desde, 6-desde-hasta)\n",
        "    print(\"Lleva la ficha desde \" + str(desde) + \" hasta \" + str(hasta))\n",
        "    Torres_Hanoi(n-1, 6-desde-hasta,  hasta)\n",
        "\n",
        "Torres_Hanoi(3, 1, 3)\n",
        "################################################################"
      ]
    },
    {
      "cell_type": "markdown",
      "metadata": {
        "id": "9xxSxdDRD-tS"
      },
      "source": [
        "### Cambio de monedas - Técnica voraz"
      ]
    },
    {
      "cell_type": "code",
      "execution_count": null,
      "metadata": {
        "colab": {
          "base_uri": "https://localhost:8080/"
        },
        "id": "YwBudj2hYoMR",
        "outputId": "c9eaf544-4ca9-4d30-fe8a-b2543ad83d24"
      },
      "outputs": [
        {
          "data": {
            "text/plain": [
              "[1, 0, 1, 1]"
            ]
          },
          "execution_count": 2,
          "metadata": {},
          "output_type": "execute_result"
        }
      ],
      "source": [
        "# Cambio de monedas - Técnica voraz\n",
        "SISTEMA = [12, 5, 2, 1]\n",
        "def cambio_monedas(CANTIDAD, SISTEMA):\n",
        "    SOLUCION = [0]*len(SISTEMA)\n",
        "    ValorAcumulado = 0\n",
        "\n",
        "    for i, valor in enumerate(SISTEMA):\n",
        "        monedas = (CANTIDAD-ValorAcumulado)//valor\n",
        "        SOLUCION[i] = monedas\n",
        "        ValorAcumulado = ValorAcumulado + monedas*valor\n",
        "\n",
        "        if CANTIDAD == ValorAcumulado:\n",
        "            return SOLUCION\n",
        "\n",
        "    print(\"No es posible encontrar solucion\")\n",
        "\n",
        "\n",
        "cambio_monedas(15, SISTEMA)\n"
      ]
    },
    {
      "cell_type": "markdown",
      "metadata": {
        "id": "UnybIaGAD-tV"
      },
      "source": [
        "### N Reinas - Vuelta Atrás()"
      ]
    },
    {
      "cell_type": "code",
      "execution_count": null,
      "metadata": {
        "colab": {
          "base_uri": "https://localhost:8080/"
        },
        "id": "H4Iwt2XRZTFr",
        "outputId": "4a9abbe7-b47f-4aad-fc18-7530f677c570"
      },
      "outputs": [
        {
          "name": "stdout",
          "output_type": "stream",
          "text": [
            "[1, 5, 8, 6, 3, 7, 2, 4]\n",
            "[1, 6, 8, 3, 7, 4, 2, 5]\n",
            "[1, 7, 4, 6, 8, 2, 5, 3]\n",
            "[1, 7, 5, 8, 2, 4, 6, 3]\n",
            "[2, 4, 6, 8, 3, 1, 7, 5]\n",
            "[2, 5, 7, 1, 3, 8, 6, 4]\n",
            "[2, 5, 7, 4, 1, 8, 6, 3]\n",
            "[2, 6, 1, 7, 4, 8, 3, 5]\n",
            "[2, 6, 8, 3, 1, 4, 7, 5]\n",
            "[2, 7, 3, 6, 8, 5, 1, 4]\n",
            "[2, 7, 5, 8, 1, 4, 6, 3]\n",
            "[2, 8, 6, 1, 3, 5, 7, 4]\n",
            "[3, 1, 7, 5, 8, 2, 4, 6]\n",
            "[3, 5, 2, 8, 1, 7, 4, 6]\n",
            "[3, 5, 2, 8, 6, 4, 7, 1]\n",
            "[3, 5, 7, 1, 4, 2, 8, 6]\n",
            "[3, 5, 8, 4, 1, 7, 2, 6]\n",
            "[3, 6, 2, 5, 8, 1, 7, 4]\n",
            "[3, 6, 2, 7, 1, 4, 8, 5]\n",
            "[3, 6, 2, 7, 5, 1, 8, 4]\n",
            "[3, 6, 4, 1, 8, 5, 7, 2]\n",
            "[3, 6, 4, 2, 8, 5, 7, 1]\n",
            "[3, 6, 8, 1, 4, 7, 5, 2]\n",
            "[3, 6, 8, 1, 5, 7, 2, 4]\n",
            "[3, 6, 8, 2, 4, 1, 7, 5]\n",
            "[3, 7, 2, 8, 5, 1, 4, 6]\n",
            "[3, 7, 2, 8, 6, 4, 1, 5]\n",
            "[3, 8, 4, 7, 1, 6, 2, 5]\n",
            "[4, 1, 5, 8, 2, 7, 3, 6]\n",
            "[4, 1, 5, 8, 6, 3, 7, 2]\n",
            "[4, 2, 5, 8, 6, 1, 3, 7]\n",
            "[4, 2, 7, 3, 6, 8, 1, 5]\n",
            "[4, 2, 7, 3, 6, 8, 5, 1]\n",
            "[4, 2, 7, 5, 1, 8, 6, 3]\n",
            "[4, 2, 8, 5, 7, 1, 3, 6]\n",
            "[4, 2, 8, 6, 1, 3, 5, 7]\n",
            "[4, 6, 1, 5, 2, 8, 3, 7]\n",
            "[4, 6, 8, 2, 7, 1, 3, 5]\n",
            "[4, 6, 8, 3, 1, 7, 5, 2]\n",
            "[4, 7, 1, 8, 5, 2, 6, 3]\n",
            "[4, 7, 3, 8, 2, 5, 1, 6]\n",
            "[4, 7, 5, 2, 6, 1, 3, 8]\n",
            "[4, 7, 5, 3, 1, 6, 8, 2]\n",
            "[4, 8, 1, 3, 6, 2, 7, 5]\n",
            "[4, 8, 1, 5, 7, 2, 6, 3]\n",
            "[4, 8, 5, 3, 1, 7, 2, 6]\n",
            "[5, 1, 4, 6, 8, 2, 7, 3]\n",
            "[5, 1, 8, 4, 2, 7, 3, 6]\n",
            "[5, 1, 8, 6, 3, 7, 2, 4]\n",
            "[5, 2, 4, 6, 8, 3, 1, 7]\n",
            "[5, 2, 4, 7, 3, 8, 6, 1]\n",
            "[5, 2, 6, 1, 7, 4, 8, 3]\n",
            "[5, 2, 8, 1, 4, 7, 3, 6]\n",
            "[5, 3, 1, 6, 8, 2, 4, 7]\n",
            "[5, 3, 1, 7, 2, 8, 6, 4]\n",
            "[5, 3, 8, 4, 7, 1, 6, 2]\n",
            "[5, 7, 1, 3, 8, 6, 4, 2]\n",
            "[5, 7, 1, 4, 2, 8, 6, 3]\n",
            "[5, 7, 2, 4, 8, 1, 3, 6]\n",
            "[5, 7, 2, 6, 3, 1, 4, 8]\n",
            "[5, 7, 2, 6, 3, 1, 8, 4]\n",
            "[5, 7, 4, 1, 3, 8, 6, 2]\n",
            "[5, 8, 4, 1, 3, 6, 2, 7]\n",
            "[5, 8, 4, 1, 7, 2, 6, 3]\n",
            "[6, 1, 5, 2, 8, 3, 7, 4]\n",
            "[6, 2, 7, 1, 3, 5, 8, 4]\n",
            "[6, 2, 7, 1, 4, 8, 5, 3]\n",
            "[6, 3, 1, 7, 5, 8, 2, 4]\n",
            "[6, 3, 1, 8, 4, 2, 7, 5]\n",
            "[6, 3, 1, 8, 5, 2, 4, 7]\n",
            "[6, 3, 5, 7, 1, 4, 2, 8]\n",
            "[6, 3, 5, 8, 1, 4, 2, 7]\n",
            "[6, 3, 7, 2, 4, 8, 1, 5]\n",
            "[6, 3, 7, 2, 8, 5, 1, 4]\n",
            "[6, 3, 7, 4, 1, 8, 2, 5]\n",
            "[6, 4, 1, 5, 8, 2, 7, 3]\n",
            "[6, 4, 2, 8, 5, 7, 1, 3]\n",
            "[6, 4, 7, 1, 3, 5, 2, 8]\n",
            "[6, 4, 7, 1, 8, 2, 5, 3]\n",
            "[6, 8, 2, 4, 1, 7, 5, 3]\n",
            "[7, 1, 3, 8, 6, 4, 2, 5]\n",
            "[7, 2, 4, 1, 8, 5, 3, 6]\n",
            "[7, 2, 6, 3, 1, 4, 8, 5]\n",
            "[7, 3, 1, 6, 8, 5, 2, 4]\n",
            "[7, 3, 8, 2, 5, 1, 6, 4]\n",
            "[7, 4, 2, 5, 8, 1, 3, 6]\n",
            "[7, 4, 2, 8, 6, 1, 3, 5]\n",
            "[7, 5, 3, 1, 6, 8, 2, 4]\n",
            "[8, 2, 4, 1, 7, 5, 3, 6]\n",
            "[8, 2, 5, 3, 1, 7, 4, 6]\n",
            "[8, 3, 1, 6, 2, 5, 7, 4]\n",
            "[8, 4, 1, 3, 6, 2, 7, 5]\n",
            "\n",
            " X  -  -  -  -  -  -  - \n",
            " -  -  -  -  -  -  X  - \n",
            " -  -  -  -  X  -  -  - \n",
            " -  -  -  -  -  -  -  X \n",
            " -  X  -  -  -  -  -  - \n",
            " -  -  -  X  -  -  -  - \n",
            " -  -  -  -  -  X  -  - \n",
            " -  -  X  -  -  -  -  - "
          ]
        }
      ],
      "source": [
        "# N Reinas - Vuelta Atrás()\n",
        "# Verifica que en la solución parcial no hay amenzas entre reinas\n",
        "def es_prometedora(SOLUCION, etapa):\n",
        "    for i in range(etapa+1):\n",
        "        #print(\"El valor \" + str(SOLUCION[i]) + \" está \" +  str(SOLUCION.count(SOLUCION[i])) + \" veces\")\n",
        "        if SOLUCION.count(SOLUCION[i]) > 1:\n",
        "            return False\n",
        "        # Verifica las diagonales\n",
        "        for j in range(i+1, etapa + 1):\n",
        "            #print(\"Comprobando diagonal de \" + str(i) + \" y \" + str(j))\n",
        "            if abs(i-j) == abs(SOLUCION[i]-SOLUCION[j]):\n",
        "                return False\n",
        "    return True\n",
        "# Traduce la solución al tablero\n",
        "\n",
        "def escribe_solucion(S):\n",
        "    n = len(S)\n",
        "    for x in range(n):\n",
        "        print(\"\")\n",
        "        for i in range(n):\n",
        "            if S[i] == x+1:\n",
        "                print(\" X \", end=\"\")\n",
        "            else:\n",
        "                print(\" - \", end=\"\")\n",
        "\n",
        "\n",
        "# Proceso principal de N-Reinas\n",
        "def reinas(N, solucion=[], etapa=0):\n",
        "    if len(solucion) == 0:         # [0,0,0...]\n",
        "        solucion = [0 for i in range(N)]\n",
        "    for i in range(1, N+1):\n",
        "        solucion[etapa] = i\n",
        "        if es_prometedora(solucion, etapa):\n",
        "            if etapa == N-1:\n",
        "                print(solucion)\n",
        "            else:\n",
        "                reinas(N, solucion, etapa+1)\n",
        "        else:\n",
        "            None\n",
        "    solucion[etapa] = 0\n",
        "\n",
        "reinas(8, solucion=[], etapa=0)\n",
        "escribe_solucion([1, 5, 8, 6, 3, 7, 2, 4])"
      ]
    },
    {
      "cell_type": "markdown",
      "metadata": {
        "id": "M6QnF5I3D-tY"
      },
      "source": [
        "### Viaje por el rio - Programación dinámica"
      ]
    },
    {
      "cell_type": "code",
      "execution_count": null,
      "metadata": {
        "colab": {
          "base_uri": "https://localhost:8080/",
          "height": 381
        },
        "id": "TocxR55dQWq5",
        "outputId": "90cdf27e-b470-474a-88f3-b62f53d57215"
      },
      "outputs": [
        {
          "name": "stdout",
          "output_type": "stream",
          "text": [
            "PRECIOS\n",
            "[0, 5, 4, 3, 8, 8, 11]\n",
            "[9999, 0, 999, 2, 3, 8, 7]\n",
            "[9999, 9999, 0, 1, 6, 4, 7]\n",
            "[9999, 9999, 9999, 0, 5, 6, 9]\n",
            "[9999, 9999, 9999, 9999, 0, 999, 4]\n",
            "[9999, 9999, 9999, 9999, 9999, 0, 3]\n",
            "[9999, 9999, 9999, 9999, 9999, 9999, 9999]\n",
            "\n",
            "RUTA\n",
            "[0, 0, 0, 0, 1, 2, 5]\n",
            "['', 1, 1, 1, 1, 3, 4]\n",
            "['', '', 2, 2, 3, 2, 5]\n",
            "['', '', '', 3, 3, 3, 3]\n",
            "['', '', '', '', 4, 4, 4]\n",
            "['', '', '', '', '', 5, 5]\n",
            "['', '', '', '', '', '', '']\n",
            "\n",
            "La ruta es:\n"
          ]
        },
        {
          "data": {
            "application/vnd.google.colaboratory.intrinsic+json": {
              "type": "string"
            },
            "text/plain": [
              "',0,2,5'"
            ]
          },
          "execution_count": 2,
          "metadata": {},
          "output_type": "execute_result"
        }
      ],
      "source": [
        "# Viaje por el rio - Programación dinámica\n",
        "TARIFAS = [\n",
        "    [0, 5, 4, 3, 999, 999, 999],\n",
        "    [999, 0, 999, 2, 3, 999, 11],\n",
        "    [999, 999, 0, 1, 999, 4, 10],\n",
        "    [999, 999, 999, 0, 5, 6, 9],\n",
        "    [999, 999, 999, 999, 0, 999, 4],\n",
        "    [999, 999, 999, 999, 999, 0, 3],\n",
        "    [999, 999, 999, 999, 999, 999, 0]\n",
        "]\n",
        "\n",
        "# Calculo de la matriz de PRECIOS y RUTAS\n",
        "\n",
        "\n",
        "def Precios(TARIFAS):\n",
        "    # Total de Nodos\n",
        "    N = len(TARIFAS[0])\n",
        "\n",
        "    # Inicialización de la tabla de precios\n",
        "    PRECIOS = [[9999]*N for i in [9999]*N]\n",
        "    RUTA = [[\"\"]*N for i in [\"\"]*N]\n",
        "\n",
        "    for i in range(0, N-1):\n",
        "        RUTA[i][i] = i  # Para ir de i a i se \"pasa por i\"\n",
        "        PRECIOS[i][i] = 0  # Para ir de i a i se se paga 0\n",
        "        for j in range(i+1, N):\n",
        "            MIN = TARIFAS[i][j]\n",
        "            RUTA[i][j] = i\n",
        "\n",
        "            for k in range(i, j):\n",
        "                if PRECIOS[i][k] + TARIFAS[k][j] < MIN:\n",
        "                    MIN = min(MIN, PRECIOS[i][k] + TARIFAS[k][j])\n",
        "                    # Anota que para ir de i a j hay que pasar por k\n",
        "                    RUTA[i][j] = k\n",
        "                PRECIOS[i][j] = MIN\n",
        "\n",
        "    return PRECIOS, RUTA\n",
        "\n",
        "PRECIOS, RUTA = Precios(TARIFAS)\n",
        "# print(PRECIOS[0][6])\n",
        "\n",
        "print(\"PRECIOS\")\n",
        "for i in range(len(TARIFAS)):\n",
        "    print(PRECIOS[i])\n",
        "\n",
        "print(\"\\nRUTA\")\n",
        "for i in range(len(TARIFAS)):\n",
        "    print(RUTA[i])\n",
        "\n",
        "# Determinar la ruta con Recursividad\n",
        "def calcular_ruta(RUTA, desde, hasta):\n",
        "    if desde == hasta:\n",
        "        #print(\"Ir a :\" + str(desde))\n",
        "        return \"\"\n",
        "    else:\n",
        "        return str(calcular_ruta(RUTA, desde, RUTA[desde][hasta])) +  \\\n",
        "            ',' + \\\n",
        "            str(RUTA[desde][hasta]\n",
        "                )\n",
        "\n",
        "\n",
        "print(\"\\nLa ruta es:\")\n",
        "calcular_ruta(RUTA, 0, 6)\n"
      ]
    },
    {
      "cell_type": "markdown",
      "metadata": {
        "id": "S7uN7Y2mD-tc"
      },
      "source": [
        "### Puntos 1D mas cercanos"
      ]
    },
    {
      "cell_type": "code",
      "execution_count": null,
      "metadata": {
        "id": "YLyZPx4-D-tc"
      },
      "outputs": [],
      "source": [
        "import random\n",
        "from time import time\n",
        "import math\n",
        "\n",
        "def get_min(point1, point2):\n",
        "    return min(point1, point2, key=lambda x: x[2])\n",
        "    \n",
        "# Generamos lista aleatoria de puntos\n",
        "LIST_1d = [random.randrange(1, 10000) for x in range(1000)]\n",
        "LIST_1d.sort(reverse=True)\n",
        "#Usar lista {NR_LIST_1d} para probar con una lista con valores no repetidos\n",
        "#NR_LIST_1d = [*set(LIST_1d)]\n",
        "#NR_LIST_1d.sort(reverse=True)"
      ]
    },
    {
      "cell_type": "code",
      "execution_count": null,
      "metadata": {
        "id": "p3z8HDqTD-td",
        "outputId": "5e39c8ee-5c88-4192-a31a-d6f7c71d406c"
      },
      "outputs": [
        {
          "name": "stdout",
          "output_type": "stream",
          "text": [
            "Closest 1D points using Brute Force\n",
            "Closest Points: 9924,9924\n",
            "Distance: 0\n",
            "Total time: 0.056928157806396484\n"
          ]
        }
      ],
      "source": [
        "# Fuerza bruta\n",
        "# Complejidad: O(n^2)\n",
        "def closest_1d_points_brute_force(points):\n",
        "    if(len(points) < 2):\n",
        "        return None, None, float(\"inf\")\n",
        "\n",
        "    closest = (points[0], points[1], points[0] - points[1])\n",
        "    for i in range(1, len(points)-2):\n",
        "        for j in range(i+1, len(points)-1):\n",
        "            distance = points[i] - points[j]\n",
        "            if(distance < closest[2]):\n",
        "                closest = (points[i], points[j], distance)\n",
        "    return closest\n",
        "\n",
        "start_time = time()\n",
        "closest = closest_1d_points_brute_force(LIST_1d[:])\n",
        "end_time = time()\n",
        "print('Closest 1D points using Brute Force')\n",
        "print(f'Closest Points: {closest[0]},{closest[1]}\\nDistance: {closest[2]}')\n",
        "print(f'Total time: {end_time - start_time}')"
      ]
    },
    {
      "cell_type": "code",
      "execution_count": null,
      "metadata": {
        "id": "K9QDX57PD-te",
        "outputId": "e2fcfc83-1af7-4925-f057-5c016bd58d67"
      },
      "outputs": [
        {
          "name": "stdout",
          "output_type": "stream",
          "text": [
            "\n",
            "\n",
            "Closest 1D points using Divide and conquer\n",
            "Closest Points: 9924,9924\n",
            "Distance: 0\n",
            "Total time: 0.002521991729736328\n"
          ]
        }
      ],
      "source": [
        "# Divide y Vencerás\n",
        "# Complejidad: n.(log n)^2\n",
        "def closest_1d_points_divide_and_conquer(points):\n",
        "    if(len(points) <= 3):\n",
        "        return closest_1d_points_brute_force(points)\n",
        "    \n",
        "    half = len(points)//2\n",
        "    half_point = points[half]\n",
        "    left_half = closest_1d_points_divide_and_conquer(points[:half])\n",
        "    right_half = closest_1d_points_divide_and_conquer(points[half:])\n",
        "\n",
        "    distance = get_min(left_half, right_half)\n",
        "    strip = []\n",
        "\n",
        "    for i in range(len(points)):\n",
        "        if abs(points[i] - half_point) < distance[2]:\n",
        "            strip.append(points[i])\n",
        "    return get_min(distance, closest_1d_points_brute_force(strip))\n",
        "\n",
        "print('\\n\\nClosest 1D points using Divide and conquer')\n",
        "start_time = time()\n",
        "closest = closest_1d_points_divide_and_conquer(LIST_1d[:])\n",
        "end_time = time()\n",
        "print(f'Closest Points: {closest[0]},{closest[1]}\\nDistance: {closest[2]}')\n",
        "print(f'Total time: {end_time - start_time}')\n",
        "\n",
        "#Complejidad"
      ]
    },
    {
      "cell_type": "code",
      "execution_count": null,
      "metadata": {
        "id": "eX9kcqTzD-tf",
        "outputId": "e93221f8-7f2b-4757-bc29-d6b3e3ba10ea"
      },
      "outputs": [
        {
          "name": "stdout",
          "output_type": "stream",
          "text": [
            "\n",
            "\n",
            "Closest 1D points using Greedy\n",
            "Closest Points: 9924,9924\n",
            "Distance: 0\n",
            "Total time: 0.0002110004425048828\n"
          ]
        }
      ],
      "source": [
        "# Voraz\n",
        "# Complejidad: O(n)\n",
        "def closest_1d_points_greedy(points):\n",
        "    if(len(points) < 2):\n",
        "        return None, None, float(\"inf\")\n",
        "\n",
        "    closest = (points[0], points[1], points[0] - points[1])\n",
        "    del points[0]\n",
        "    while len(points) > 1:\n",
        "        distance = points[0] - points[1]\n",
        "        if(distance < closest[2]):\n",
        "            closest = (points[0], points[1], distance)\n",
        "        del points[0]\n",
        "    return closest\n",
        "\n",
        "start_time = time()\n",
        "closest = closest_1d_points_greedy(LIST_1d[:])\n",
        "end_time = time()\n",
        "print('\\n\\nClosest 1D points using Greedy')\n",
        "print(f'Closest Points: {closest[0]},{closest[1]}\\nDistance: {closest[2]}')\n",
        "print(f'Total time: {end_time - start_time}')\n",
        "\n",
        "#Complejidad\n"
      ]
    },
    {
      "cell_type": "markdown",
      "metadata": {
        "id": "BzkF8vghD-tf"
      },
      "source": [
        "### Puntos 2D mas cercanos"
      ]
    },
    {
      "cell_type": "code",
      "execution_count": null,
      "metadata": {
        "id": "TRKWHCZOD-tg"
      },
      "outputs": [],
      "source": [
        "import math\n",
        "\n",
        "LIST_2d = [(random.randrange(1, 10000), random.randrange(1, 10000)) for x in range(1000)]\n",
        "LIST_2d.sort(reverse=True, key=lambda x: x[0])\n",
        "\n",
        "def get_distance_two_2d_points(point1, point2):\n",
        "    return math.sqrt(\n",
        "        (math.pow(point1[0] - point2[0], 2 )) +\n",
        "        (math.pow(point1[1] - point2[1], 2 )))\n"
      ]
    },
    {
      "cell_type": "code",
      "execution_count": null,
      "metadata": {
        "id": "NQ0rGhYtD-th",
        "outputId": "cf3a5e60-34db-4de8-8917-84550722e872"
      },
      "outputs": [
        {
          "name": "stdout",
          "output_type": "stream",
          "text": [
            "\n",
            "\n",
            "Closest 2D points using Brute Force\n",
            "Closest Points: (834, 6488),(824, 6483)\n",
            "Distance: 11.180339887498949\n",
            "Total time: 0.30370473861694336\n"
          ]
        }
      ],
      "source": [
        "# Fuerza bruta\n",
        "# Complejidad: O(n^2)\n",
        "def closest_2d_points_brute_force(points):\n",
        "    if(len(points) < 2):\n",
        "        return None, None, None\n",
        "\n",
        "    closest = (points[0], points[1], get_distance_two_2d_points(points[0], points[1]))\n",
        "    for i in range(1, len(points)-2):\n",
        "        for j in range(i+1, len(points)-1):\n",
        "            distance = get_distance_two_2d_points(points[i], points[j])\n",
        "            if(distance < closest[2]):\n",
        "                closest = (points[i], points[j], distance)\n",
        "    return closest\n",
        "\n",
        "\n",
        "start_time = time()\n",
        "closest = closest_2d_points_brute_force(LIST_2d[:])\n",
        "end_time = time()\n",
        "print('\\n\\nClosest 2D points using Brute Force')\n",
        "print(f'Closest Points: {closest[0]},{closest[1]}\\nDistance: {closest[2]}')\n",
        "print(f'Total time: {end_time - start_time}')"
      ]
    },
    {
      "cell_type": "code",
      "execution_count": null,
      "metadata": {
        "id": "3lMFsLF6D-th",
        "outputId": "c7805551-4738-4487-8e09-b68c9381ab43"
      },
      "outputs": [
        {
          "name": "stdout",
          "output_type": "stream",
          "text": [
            "\n",
            "\n",
            "Closest 2D points using Divide and conquer\n",
            "Closest Points: (824, 6483),(834, 6488)\n",
            "Distance: 11.180339887498949\n",
            "Total time: 0.008413314819335938\n"
          ]
        }
      ],
      "source": [
        "# Divide y Vencerás\n",
        "# Complejidad: n.(log n)^2\n",
        "def closest_2d_strip_points_divide_and_conquer(points, closest):\n",
        "    if(not len(points)):\n",
        "        return None, None, float(\"inf\")\n",
        "    \n",
        "    points.sort(key=lambda point: point[1])\n",
        "    for i in range(len(points)):\n",
        "        for j in range(i+1, len(points)):\n",
        "            distance = get_distance_two_2d_points(points[i], points[j])\n",
        "            if(distance < closest[2]):\n",
        "                closest = (points[i], points[j], distance)\n",
        "    return closest\n",
        "\n",
        "def closest_2d_points_divide_and_conquer(points):\n",
        "    if(len(points) <= 3):\n",
        "        return closest_2d_points_brute_force(points)\n",
        "    \n",
        "    half = len(points)//2\n",
        "    half_point = points[half]\n",
        "    left_half = closest_2d_points_divide_and_conquer(points[:half])\n",
        "    right_half = closest_2d_points_divide_and_conquer(points[half:])\n",
        "\n",
        "    closest_pair = get_min(left_half, right_half)\n",
        "    strip = []\n",
        "\n",
        "    for i in range(len(points)):\n",
        "        points_distance = get_distance_two_2d_points(points[i], half_point)\n",
        "        if points_distance < closest_pair[2]:\n",
        "            strip.append(points[i])\n",
        "    return get_min(closest_pair, closest_2d_strip_points_divide_and_conquer(strip, closest_pair))\n",
        "\n",
        "print('\\n\\nClosest 2D points using Divide and conquer')\n",
        "start_time = time()\n",
        "closest = closest_2d_points_divide_and_conquer(LIST_2d[:])\n",
        "end_time = time()\n",
        "print(f'Closest Points: {closest[0]},{closest[1]}\\nDistance: {closest[2]}')\n",
        "print(f'Total time: {end_time - start_time}')"
      ]
    },
    {
      "cell_type": "code",
      "execution_count": null,
      "metadata": {
        "id": "7AqRoRS3D-ti",
        "outputId": "c7c67ea5-c7e8-45d1-8b62-f95328b987e0"
      },
      "outputs": [
        {
          "name": "stdout",
          "output_type": "stream",
          "text": [
            "\n",
            "\n",
            "Closest 2D points using Greedy\n",
            "Closest Points: (834, 6488),(824, 6483)\n",
            "Distance: 11.180339887498949\n",
            "Total time: 0.0007064342498779297\n"
          ]
        }
      ],
      "source": [
        "# Voraz\n",
        "# Complejidad: O(n)\n",
        "def closest_2d_points_greedy(points):\n",
        "    if(len(points) < 2):\n",
        "        return None, None, float(\"inf\")\n",
        "\n",
        "    closest = (points[0], points[1], get_distance_two_2d_points(points[0], points[1]))\n",
        "    del points[0]\n",
        "    while len(points) > 1:\n",
        "        distance = get_distance_two_2d_points(points[0], points[1])\n",
        "        if(distance < closest[2]):\n",
        "            closest = (points[0], points[1], distance)\n",
        "        del points[0]\n",
        "    return closest\n",
        "\n",
        "start_time = time()\n",
        "closest = closest_2d_points_greedy(LIST_2d[:])\n",
        "end_time = time()\n",
        "print('\\n\\nClosest 2D points using Greedy')\n",
        "print(f'Closest Points: {closest[0]},{closest[1]}\\nDistance: {closest[2]}')\n",
        "print(f'Total time: {end_time - start_time}')"
      ]
    }
  ],
  "metadata": {
    "colab": {
      "provenance": [],
      "include_colab_link": true
    },
    "kernelspec": {
      "display_name": "base",
      "language": "python",
      "name": "python3"
    },
    "language_info": {
      "codemirror_mode": {
        "name": "ipython",
        "version": 3
      },
      "file_extension": ".py",
      "mimetype": "text/x-python",
      "name": "python",
      "nbconvert_exporter": "python",
      "pygments_lexer": "ipython3",
      "version": "3.9.13"
    },
    "vscode": {
      "interpreter": {
        "hash": "2866b2a046d69f0daa15389a0d6303611c1f2880cfedaaf81a70ecc539747789"
      }
    }
  },
  "nbformat": 4,
  "nbformat_minor": 0
}